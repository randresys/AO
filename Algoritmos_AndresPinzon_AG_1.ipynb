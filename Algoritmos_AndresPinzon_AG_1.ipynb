{
  "nbformat": 4,
  "nbformat_minor": 0,
  "metadata": {
    "colab": {
      "provenance": []
    },
    "kernelspec": {
      "name": "python3",
      "display_name": "Python 3"
    },
    "language_info": {
      "name": "python"
    }
  },
  "cells": [
    {
      "cell_type": "markdown",
      "source": [],
      "metadata": {
        "id": "lgC6wbH83ZDJ"
      }
    },
    {
      "cell_type": "code",
      "execution_count": 1,
      "metadata": {
        "colab": {
          "base_uri": "https://localhost:8080/"
        },
        "id": "8zMxYKDS3NIv",
        "outputId": "3f97b5a8-2f7f-43c0-ec02-91e58dfd812d"
      },
      "outputs": [
        {
          "output_type": "stream",
          "name": "stdout",
          "text": [
            "4\n",
            "3\n",
            "2\n",
            "1\n",
            "move 1 to 2 with N 1\n",
            "_move 1 to 3 with N 2\n",
            "1\n",
            "move 2 to 3 with N 1\n",
            "_move 1 to 2 with N 3\n",
            "2\n",
            "1\n",
            "move 3 to 1 with N 1\n",
            "_move 3 to 2 with N 2\n",
            "1\n",
            "move 1 to 2 with N 1\n",
            "_move 1 to 3 with N 4\n",
            "3\n",
            "2\n",
            "1\n",
            "move 2 to 3 with N 1\n",
            "_move 2 to 1 with N 2\n",
            "1\n",
            "move 3 to 1 with N 1\n",
            "_move 2 to 3 with N 3\n",
            "2\n",
            "1\n",
            "move 1 to 2 with N 1\n",
            "_move 1 to 3 with N 2\n",
            "1\n",
            "move 2 to 3 with N 1\n"
          ]
        }
      ],
      "source": [
        "def torres_hanoi(N,ori, dest, pivot):\n",
        "  print(N)\n",
        "  if N==1:\n",
        "    print(f\"move {ori} to {dest} with N {N}\")\n",
        "    return\n",
        "  torres_hanoi(N-1,ori, pivot, dest)\n",
        "  print(f\"_move {ori} to {dest} with N {N}\")\n",
        "  torres_hanoi(N-1,pivot, dest, ori)\n",
        "\n",
        "torres_hanoi(4,1, 3, 2)"
      ]
    },
    {
      "cell_type": "code",
      "source": [
        "def cambio_moneda(cantidad, sistema):\n",
        "  print(\"sistema: \")\n",
        "  print(sistema)\n",
        "  solucion = [0 for i in range(len(sistema))]\n",
        "  valor_acumulado = 0\n",
        "  for i in range(len(sistema)):\n",
        "    #max_monedas mayor valor a agregar\n",
        "    monedas = int((cantidad - valor_acumulado) /sistema[i])\n",
        "    #agregar numero monedas a la denominacion evaluada\n",
        "    solucion[i] = monedas\n",
        "    #Contar numero cambio acumulado\n",
        "    valor_acumulado += monedas * sistema[i]\n",
        "    if valor_acumulado == cantidad: break\n",
        "  return solucion\n",
        "\n",
        "sistema = [25,10,5,1]\n",
        "\n",
        "cambio_moneda(54, sistema)"
      ],
      "metadata": {
        "id": "cnPUa3ypBRxP",
        "colab": {
          "base_uri": "https://localhost:8080/"
        },
        "outputId": "1960f9e0-0ecc-4f0b-bc88-c5749804fed5"
      },
      "execution_count": null,
      "outputs": [
        {
          "output_type": "stream",
          "name": "stdout",
          "text": [
            "sistema: \n",
            "[25, 10, 5, 1]\n"
          ]
        },
        {
          "output_type": "execute_result",
          "data": {
            "text/plain": [
              "[2, 0, 0, 4]"
            ]
          },
          "metadata": {},
          "execution_count": 5
        }
      ]
    }
  ]
}